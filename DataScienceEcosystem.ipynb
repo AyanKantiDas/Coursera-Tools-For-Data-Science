{
 "cells": [
  {
   "cell_type": "markdown",
   "source": [
    "<h1>Data Science Tools and Ecosystem</h1>"
   ],
   "metadata": {
    "collapsed": false
   },
   "id": "7416807d45348890"
  },
  {
   "cell_type": "markdown",
   "source": [
    "# Introduction\n",
    "\n",
    "In this notebook, Data Science Tools and Ecosystem are summarized."
   ],
   "metadata": {
    "collapsed": false
   },
   "id": "3c966ed0601df5e8"
  },
  {
   "cell_type": "markdown",
   "source": [
    "# Data Science Languages\n",
    "\n",
    "Some of the popular languages that Data Scientists use are:\n",
    "\n",
    "1. Python\n",
    "2. R\n",
    "3. SQL\n",
    "4. Julia\n",
    "5. Scala"
   ],
   "metadata": {
    "collapsed": false
   },
   "id": "52c2f6c2f25736df"
  },
  {
   "cell_type": "markdown",
   "source": [
    "# Data Science Libraries\n",
    "\n",
    "Some of the commonly used libraries by Data Scientists include:\n",
    "\n",
    "1. Pandas\n",
    "2. NumPy\n",
    "3. Matplotlib\n",
    "4. Scikit-learn\n",
    "5. TensorFlow"
   ],
   "metadata": {
    "collapsed": false
   },
   "id": "519fe0da4c8192cb"
  },
  {
   "cell_type": "markdown",
   "source": [
    "# Data Science Tools\n",
    "\n",
    "| Data Science Tools           |\n",
    "|------------------------------|\n",
    "| Jupyter Notebook             |\n",
    "| RStudio                      |\n",
    "| Apache Zeppelin              |"
   ],
   "metadata": {
    "collapsed": false
   },
   "id": "de6c7c061a4a981d"
  },
  {
   "cell_type": "markdown",
   "source": [
    "### Arithmetic Expression Examples\n",
    "\n",
    "### Below are a few examples of evaluating arithmetic expressions in Python."
   ],
   "metadata": {
    "collapsed": false
   },
   "id": "14b7f6c0a6a66c67"
  },
  {
   "cell_type": "code",
   "outputs": [
    {
     "data": {
      "text/plain": "17"
     },
     "execution_count": 3,
     "metadata": {},
     "output_type": "execute_result"
    }
   ],
   "source": [
    "# This is a simple arithmetic expression to multiply then add integers\n",
    "(3 * 4) + 5"
   ],
   "metadata": {
    "collapsed": false,
    "ExecuteTime": {
     "end_time": "2024-08-14T00:24:32.086124Z",
     "start_time": "2024-08-14T00:24:32.064466Z"
    }
   },
   "id": "e3871990514899ef",
   "execution_count": 3
  },
  {
   "cell_type": "code",
   "outputs": [
    {
     "data": {
      "text/plain": "3.3333333333333335"
     },
     "execution_count": 4,
     "metadata": {},
     "output_type": "execute_result"
    }
   ],
   "source": [
    "# This will convert 200 minutes to hours by dividing by 60\n",
    "200 / 60"
   ],
   "metadata": {
    "collapsed": false,
    "ExecuteTime": {
     "end_time": "2024-08-14T00:24:32.117629Z",
     "start_time": "2024-08-14T00:24:32.100330Z"
    }
   },
   "id": "c1ea6fa52d9adfff",
   "execution_count": 4
  },
  {
   "cell_type": "markdown",
   "source": [
    "**Objectives:**\n",
    "\n",
    "- List popular languages for Data Science\n",
    "- Identify commonly used libraries in Data Science\n",
    "- Provide examples of arithmetic expressions in Python\n",
    "- Convert time units using Python expressions\n",
    "- Introduce development environment tools used in Data Science"
   ],
   "metadata": {
    "collapsed": false
   },
   "id": "82cba92a7eb6d718"
  },
  {
   "cell_type": "markdown",
   "source": [
    "## Author\n",
    "\n",
    "Ayan Kanti Das\n"
   ],
   "metadata": {
    "collapsed": false
   },
   "id": "16534ea92f55ae2e"
  },
  {
   "cell_type": "code",
   "outputs": [],
   "source": [],
   "metadata": {
    "collapsed": false,
    "ExecuteTime": {
     "end_time": "2024-08-14T00:24:32.133189Z",
     "start_time": "2024-08-14T00:24:32.120726Z"
    }
   },
   "id": "d1178973d57e7c94",
   "execution_count": 4
  }
 ],
 "metadata": {
  "kernelspec": {
   "display_name": "Python 3",
   "language": "python",
   "name": "python3"
  },
  "language_info": {
   "codemirror_mode": {
    "name": "ipython",
    "version": 2
   },
   "file_extension": ".py",
   "mimetype": "text/x-python",
   "name": "python",
   "nbconvert_exporter": "python",
   "pygments_lexer": "ipython2",
   "version": "2.7.6"
  }
 },
 "nbformat": 4,
 "nbformat_minor": 5
}
